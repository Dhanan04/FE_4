{
 "cells": [
  {
   "cell_type": "markdown",
   "id": "fdd00d9f",
   "metadata": {},
   "source": [
    "#Ans1.) \n",
    "\n",
    "Data encoding is the process of converting categorical data into a numerical format that can be used for analysis or machine learning tasks. It is useful in data science because many machine learning algorithms require numerical input, and encoding allows us to represent categorical variables in a way that can be understood by these algorithms."
   ]
  },
  {
   "cell_type": "code",
   "execution_count": null,
   "id": "91ce1731",
   "metadata": {},
   "outputs": [],
   "source": []
  },
  {
   "cell_type": "markdown",
   "id": "f159441f",
   "metadata": {},
   "source": [
    "#Ans2.) \n",
    "\n",
    "Nominal encoding, also known as label encoding, is a technique where each unique category in a categorical variable is assigned a unique integer label. For example, if you have a categorical variable \"color\" with values \"red\", \"blue\", and \"green\", you could encode them as 0, 1, and 2 respectively."
   ]
  },
  {
   "cell_type": "code",
   "execution_count": 1,
   "id": "b640ec2c",
   "metadata": {},
   "outputs": [
    {
     "name": "stdout",
     "output_type": "stream",
     "text": [
      "[2 0 1 2 1 0]\n"
     ]
    }
   ],
   "source": [
    "from sklearn.preprocessing import LabelEncoder\n",
    "\n",
    "# Sample data\n",
    "colors = ['red', 'blue', 'green', 'red', 'green', 'blue']\n",
    "\n",
    "# Initialize LabelEncoder\n",
    "encoder = LabelEncoder()\n",
    "\n",
    "# Fit and transform the data\n",
    "encoded_colors = encoder.fit_transform(colors)\n",
    "print(encoded_colors)\n"
   ]
  },
  {
   "cell_type": "code",
   "execution_count": null,
   "id": "0baf7515",
   "metadata": {},
   "outputs": [],
   "source": []
  },
  {
   "cell_type": "markdown",
   "id": "a42d3fd3",
   "metadata": {},
   "source": [
    "#Ans3.) \n",
    "\n",
    "Nominal encoding is preferred over one-hot encoding when the categorical variable has a large number of unique categories. One-hot encoding creates a binary column for each category, which can lead to a high-dimensional sparse matrix, making the dataset computationally expensive and potentially causing the curse of dimensionality. In such cases, nominal encoding provides a more compact representation.\n",
    "\n",
    "Example:\n",
    "Suppose you have a dataset with a \"country\" column containing the names of countries. If there are hundreds of unique countries, one-hot encoding would result in hundreds of additional columns, whereas nominal encoding would only add a single column with integer labels"
   ]
  },
  {
   "cell_type": "code",
   "execution_count": null,
   "id": "6f29ad97",
   "metadata": {},
   "outputs": [],
   "source": []
  },
  {
   "cell_type": "markdown",
   "id": "06b94d54",
   "metadata": {},
   "source": [
    "#Ans4.) \n",
    "\n",
    "If the categorical variable has ordinality or hierarchy, I would use ordinal encoding. If there is no ordinality, nominal encoding (label encoding) would be suitable. Ordinal encoding preserves the order of the categories, while nominal encoding assigns unique labels to each category without imposing any order."
   ]
  },
  {
   "cell_type": "markdown",
   "id": "85511676",
   "metadata": {},
   "source": []
  },
  {
   "cell_type": "markdown",
   "id": "d7e17194",
   "metadata": {},
   "source": [
    "#Ans5.) \n",
    "\n",
    "If we use nominal encoding (label encoding) for categorical variables, each unique category will be assigned a unique integer label. The number of new columns created would be equal to the number of categorical variables.\n",
    "\n",
    "In this case, with 2 categorical columns, there would be 2 new columns created."
   ]
  },
  {
   "cell_type": "code",
   "execution_count": null,
   "id": "53e1c991",
   "metadata": {},
   "outputs": [],
   "source": []
  },
  {
   "cell_type": "markdown",
   "id": "054a90bc",
   "metadata": {},
   "source": [
    "#Ans6.) \n",
    "\n",
    "For the \"species\" column, I would use nominal encoding since the different species do not have any inherent order or hierarchy. For the \"habitat\" and \"diet\" columns, I would use one-hot encoding since there is no ordinal relationship between different habitats or diets, and one-hot encoding would create binary columns representing the presence or absence of each category."
   ]
  },
  {
   "cell_type": "code",
   "execution_count": null,
   "id": "6edfa9cb",
   "metadata": {},
   "outputs": [],
   "source": []
  },
  {
   "cell_type": "markdown",
   "id": "c8482eae",
   "metadata": {},
   "source": [
    "#Ans7.) \n",
    "\n",
    "For the \"gender\" column, I would use nominal encoding since there are only two categories (e.g., \"male\" and \"female\"). For the \"contract type\" column, I would also use nominal encoding since there may not be an inherent order between different contract types (e.g., \"month-to-month\", \"one year\", \"two years\"). However, if there is an ordinal relationship between contract types, I might consider ordinal encoding instead. For the remaining numerical columns (\"age\", \"monthly charges\", \"tenure\"), no encoding is needed as they are already in numerical format"
   ]
  },
  {
   "cell_type": "code",
   "execution_count": 2,
   "id": "3ea1262d",
   "metadata": {},
   "outputs": [
    {
     "name": "stdout",
     "output_type": "stream",
     "text": [
      "[1 0 1 1 0]\n"
     ]
    }
   ],
   "source": [
    "# for gender column\n",
    "\n",
    "from sklearn.preprocessing import LabelEncoder\n",
    "\n",
    "# Sample data\n",
    "gender = ['male', 'female', 'male', 'male', 'female']\n",
    "\n",
    "# Initialize LabelEncoder\n",
    "gender_encoder = LabelEncoder()\n",
    "\n",
    "# Fit and transform the data\n",
    "encoded_gender = gender_encoder.fit_transform(gender)\n",
    "print(encoded_gender)\n",
    "\n"
   ]
  },
  {
   "cell_type": "code",
   "execution_count": null,
   "id": "0b76979d",
   "metadata": {},
   "outputs": [],
   "source": []
  },
  {
   "cell_type": "code",
   "execution_count": 3,
   "id": "4ebb8b89",
   "metadata": {},
   "outputs": [
    {
     "name": "stdout",
     "output_type": "stream",
     "text": [
      "[0 1 2 0 1]\n"
     ]
    }
   ],
   "source": [
    "#for contract type column\n",
    "\n",
    "# Sample data\n",
    "contract_types = ['month-to-month', 'one year', 'two years', 'month-to-month', 'one year']\n",
    "\n",
    "# Initialize LabelEncoder\n",
    "contract_encoder = LabelEncoder()\n",
    "\n",
    "# Fit and transform the data\n",
    "encoded_contract_types = contract_encoder.fit_transform(contract_types)\n",
    "print(encoded_contract_types)\n"
   ]
  },
  {
   "cell_type": "code",
   "execution_count": null,
   "id": "c13a0113",
   "metadata": {},
   "outputs": [],
   "source": []
  }
 ],
 "metadata": {
  "kernelspec": {
   "display_name": "Python 3 (ipykernel)",
   "language": "python",
   "name": "python3"
  },
  "language_info": {
   "codemirror_mode": {
    "name": "ipython",
    "version": 3
   },
   "file_extension": ".py",
   "mimetype": "text/x-python",
   "name": "python",
   "nbconvert_exporter": "python",
   "pygments_lexer": "ipython3",
   "version": "3.11.4"
  }
 },
 "nbformat": 4,
 "nbformat_minor": 5
}
